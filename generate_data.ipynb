{
 "cells": [
  {
   "cell_type": "code",
   "execution_count": null,
   "metadata": {},
   "outputs": [
    {
     "name": "stderr",
     "output_type": "stream",
     "text": [
      "/home/colder/miniconda3/envs/llm/lib/python3.10/site-packages/tqdm/auto.py:21: TqdmWarning: IProgress not found. Please update jupyter and ipywidgets. See https://ipywidgets.readthedocs.io/en/stable/user_install.html\n",
      "  from .autonotebook import tqdm as notebook_tqdm\n"
     ]
    }
   ],
   "source": [
    "# from torch.utils.data import Dataset, IterableDataset\n",
    "from datasets import load_dataset, Features\n",
    "# from transformers import GPT2Tokenizer, GPT2TokenizerFast\n",
    "# import torch\n",
    "from tqdm import tqdm\n",
    "import random\n",
    "import json\n",
    "# from tokenizer import TiktokenTokenizer\n",
    "from gpt import GPTRewardModel, GPT\n",
    "from configs import get_configs\n",
    "device = torch.device(\"cuda\" if torch.cuda.is_available() else \"cpu\")\n",
    "import tiktoken\n",
    "config = get_configs('gpt2-medium')\n",
    "\n"
   ]
  },
  {
   "cell_type": "code",
   "execution_count": null,
   "metadata": {},
   "outputs": [],
   "source": [
    "path = ''\n",
    "model = GPT.from_checkpoint(config, path)"
   ]
  },
  {
   "cell_type": "code",
   "execution_count": null,
   "metadata": {},
   "outputs": [],
   "source": [
    "def prepare_gpt2_input(prompt, device):\n",
    "    enc = tiktoken.get_encoding(\"gpt2\")\n",
    "    encode = lambda s: enc.encode(s, allowed_special={\"<|endoftext|>\"})\n",
    "    decode = lambda l: enc.decode(l)\n",
    "    indices = encode(prompt)\n",
    "    x = (torch.tensor(indices, dtype=torch.long, device=device)[None, ...])\n",
    "    return x, decode\n",
    "\n",
    "def generate_gpt2(model, prompt, device, samples=2):\n",
    "    model.eval()\n",
    "    model.to(device)\n",
    "    max_new_tokens = 50\n",
    "    temperature = 0.1\n",
    "    top_k = 50\n",
    "    x, decode = prepare_gpt2_input(prompt, device)\n",
    "\n",
    "    for k in range(samples):\n",
    "        y = model.generate(x,\n",
    "                           max_new_tokens,\n",
    "                           temperature=temperature,\n",
    "                           top_k=top_k)\n",
    "        print(decode(y[0].tolist()))\n",
    "        print('---------------')"
   ]
  },
  {
   "cell_type": "code",
   "execution_count": null,
   "metadata": {},
   "outputs": [
    {
     "name": "stderr",
     "output_type": "stream",
     "text": [
      "Map: 100%|██████████| 10795/10795 [00:00<00:00, 15568.01 examples/s]"
     ]
    },
    {
     "name": "stdout",
     "output_type": "stream",
     "text": [
      "None\n"
     ]
    },
    {
     "name": "stderr",
     "output_type": "stream",
     "text": [
      "\n"
     ]
    }
   ],
   "source": [
    "# dataset = load_dataset(\"xinlai/Math-Step-DPO-10K\", split='train')\n",
    "#take all prompt and chosen from dataset\n",
    "# Create new dataset with modified values\n",
    "dataset = dataset.map(lambda x: {'rejected': generate_gpt2(model, x['prompt'], device, samples=1)}, batched=True)\n",
    "\n",
    "print(dataset[0]['rejected'])"
   ]
  },
  {
   "cell_type": "code",
   "execution_count": null,
   "metadata": {},
   "outputs": [],
   "source": []
  }
 ],
 "metadata": {
  "kernelspec": {
   "display_name": "llm",
   "language": "python",
   "name": "python3"
  },
  "language_info": {
   "codemirror_mode": {
    "name": "ipython",
    "version": 3
   },
   "file_extension": ".py",
   "mimetype": "text/x-python",
   "name": "python",
   "nbconvert_exporter": "python",
   "pygments_lexer": "ipython3",
   "version": "3.10.0"
  }
 },
 "nbformat": 4,
 "nbformat_minor": 2
}
